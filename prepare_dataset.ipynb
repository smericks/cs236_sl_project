{
 "cells": [
  {
   "cell_type": "code",
   "execution_count": null,
   "metadata": {},
   "outputs": [],
   "source": [
    "%load_ext autoreload\n",
    "%autoreload 2\n",
    "import paltas\n",
    "import numpy as np\n",
    "import matplotlib.pyplot as plt\n",
    "from tqdm import tqdm\n",
    "from astropy.io import fits\n",
    "from pathlib import Path\n",
    "import matplotlib.colors as colors\n",
    "import sys\n",
    "sys.path.insert(0, '/Users/smericks/Desktop/CS236/sl_project/')\n",
    "import visualization_utils\n"
   ]
  },
  {
   "cell_type": "markdown",
   "metadata": {},
   "source": [
    "Use paltas package to import COSMOS catalog & prepare cutouts"
   ]
  },
  {
   "cell_type": "code",
   "execution_count": null,
   "metadata": {},
   "outputs": [],
   "source": [
    "# Average AB magnitude zeropoint for the COSMOS run.\n",
    "output_ab_zeropoint = 25.95\n",
    "source_params_dict = {\n",
    "\t\t'z_source':None,\n",
    "\t\t'cosmos_folder':'COSMOS_23.5_training_sample/',\n",
    "\t\t'max_z':None,'minimum_size_in_pixels':None,'faintest_apparent_mag':None,\n",
    "\t\t'smoothing_sigma':0.00,'random_rotation':False,\n",
    "\t\t'output_ab_zeropoint':output_ab_zeropoint,\n",
    "\t\t'min_flux_radius':None,\n",
    "\t\t'center_x':None,\n",
    "\t\t'center_y':None }\n",
    "cosmos_source_galaxies = paltas.Sources.cosmos.COSMOSCatalog(\n",
    "    cosmology_parameters='planck18',\n",
    "    source_parameters=source_params_dict)"
   ]
  },
  {
   "cell_type": "code",
   "execution_count": null,
   "metadata": {},
   "outputs": [],
   "source": [
    "# from paltas.Sources.cosmos.CosmosCATALOG \n",
    "# rewritten to avoid dependence on self objects\n",
    "def iter_image_and_metadata_bulk(folder,catalog, message=''):\n",
    "    \"\"\"Yields the image array and metadata for all of the images\n",
    "    in the catalog.\n",
    "\n",
    "    Args:\n",
    "        message (str): If the iterator uses tqdm, this message\n",
    "            will be displayed.\n",
    "\n",
    "    Returns:\n",
    "        (generator): A generator that can be iterated over to give\n",
    "        lenstronomy kwargs.\n",
    "\n",
    "    Notes:\n",
    "        This will read the fits files.\n",
    "    \"\"\"\n",
    "    folder = Path(folder)\n",
    "    catalog_i = 0\n",
    "    _pattern = f'real_galaxy_images_23.5_n*.fits'  # noqa: F541, F999\n",
    "    files = list(sorted(folder.glob(_pattern),\n",
    "        key=paltas.Sources.cosmos.COSMOSCatalog._file_number))\n",
    "\n",
    "    # Iterate over all the matching files.\n",
    "    for fn in tqdm(files, desc=message):\n",
    "        with fits.open(fn) as hdul:\n",
    "            for img in hdul:\n",
    "                yield img.data, catalog[catalog_i]\n",
    "                catalog_i += 1"
   ]
  },
  {
   "cell_type": "code",
   "execution_count": null,
   "metadata": {},
   "outputs": [],
   "source": [
    "def prepare_cutout(im,cutout_size):\n",
    "\n",
    "    # arbitrary choice\n",
    "    if np.shape(im)[0] %2 != 0:\n",
    "        im = im[:-1,:]\n",
    "    if np.shape(im)[1] %2 != 0:\n",
    "        im = im[:,:-1]\n",
    "\n",
    "    if np.shape(im)[0] < cutout_size or np.shape(im)[1] < cutout_size:\n",
    "        # pad\n",
    "        # try to estimate noise\n",
    "        std_dev = np.mean([np.std(im[:10,:10]),np.std(im[-10:,:10]),np.std(im[:10,-10:]),np.std(im[-10:,-10:])])\n",
    "        #std_dev = np.mean(im[:10,:10])\n",
    "        new_im = np.random.normal(loc=0,scale=std_dev,size=(cutout_size,cutout_size))\n",
    "        diffx = int((cutout_size - np.shape(im)[0])/2)\n",
    "        diffy = int((cutout_size - np.shape(im)[1])/2)\n",
    "        # edge cases!!\n",
    "        if diffx < 1:\n",
    "            new_im[:,diffy:-diffy] = im\n",
    "            if diffy < 1:\n",
    "                new_im = im\n",
    "        elif diffy < 1:\n",
    "            new_im[diffx:-diffx,:] = im\n",
    "        else:\n",
    "            new_im[diffx:-diffx,diffy:-diffy] = im\n",
    "\n",
    "    elif np.shape(im)[0] > cutout_size or np.shape(im)[1] > cutout_size:\n",
    "        # crop\n",
    "        diffx = int((np.shape(im)[0] - cutout_size)/2)\n",
    "        diffy = int((np.shape(im)[1] - cutout_size)/2)\n",
    "\n",
    "        # edge cases!!\n",
    "        if diffx < 1:\n",
    "            new_im = im[:,diffy:-diffy]\n",
    "            if diffy < 1:\n",
    "                new_im = im\n",
    "        elif diffy < 1:\n",
    "            new_im = im[diffx:-diffx,:]\n",
    "        else:\n",
    "            new_im = im[diffx:-diffx,diffy:-diffy]\n",
    "\n",
    "    else:\n",
    "        new_im = im\n",
    "\n",
    "    # make some cut on small pixel values so that noise floor is the same for \n",
    "    # synthetic and real noise\n",
    "    new_im[new_im < 1e-2] = 0\n",
    "\n",
    "    # TODO: Fix this: janky fix!! \n",
    "    new_im = new_im[:,:-1]\n",
    "    new_im = new_im[:-1,:]\n",
    "\n",
    "    return new_im"
   ]
  },
  {
   "cell_type": "code",
   "execution_count": null,
   "metadata": {},
   "outputs": [],
   "source": [
    "cosmos_folder = 'COSMOS_23.5_training_sample/'\n",
    "HUBBLE_ACS_PIXEL_WIDTH = 0.03   # Arcsec\n",
    "cutout_size = 102"
   ]
  },
  {
   "cell_type": "code",
   "execution_count": null,
   "metadata": {},
   "outputs": [],
   "source": [
    "# based on code in paltas\n",
    "# load catalog into numpy format \n",
    "catalog_path = cosmos_folder+'custom_cutouts_round3/paltas_catalog.npy'\n",
    "npy_files_path = cosmos_folder+'custom_cutouts_round3/npy_files/'\n",
    "\n",
    "#npy_files_path.mkdir(exist_ok=True)\n",
    "\t\t\t\n",
    "# Combine all partial catalog files\n",
    "catalogs = [paltas.Sources.cosmos.unfits(cosmos_folder + fn) for fn in [\n",
    "    'real_galaxy_catalog_23.5.fits',\n",
    "    'real_galaxy_catalog_23.5_fits.fits'\n",
    "]]\n",
    "\n",
    "# Duplicate IDENT field crashes numpy's silly merge function.\n",
    "catalogs[1] = np.lib.recfunctions.drop_fields(catalogs[1],\n",
    "    'IDENT')\n",
    "\n",
    "# Custom fields\n",
    "catalogs += [\n",
    "    np.zeros(len(catalogs[0]),\n",
    "        dtype=[('size_x', int),('size_y', int),('z', float),\n",
    "        ('pixel_width', float)])]\n",
    "\n",
    "catalog = np.lib.recfunctions.merge_arrays(catalogs, flatten=True)\n",
    "\n",
    "catalog['pixel_width'] = HUBBLE_ACS_PIXEL_WIDTH\n",
    "catalog['z'] = catalog['zphot']\n",
    "catalog['size_x'] = cutout_size\n",
    "catalog['size_y'] = cutout_size\n",
    "\n",
    "# Loop over the images to find their sizes.\n",
    "catalog_i = 0\n",
    "sum_ims = []\n",
    "counter = 0\n",
    "for img, meta in iter_image_and_metadata_bulk(folder=cosmos_folder,catalog=catalog):\n",
    "    # Grab the shape of each image.\n",
    "    # IMPOSE SAME CUTOUTSIZE FOR EVERY IMAGE\n",
    "    counter += 1\n",
    "    if counter == 5 or counter == 12 or counter == 17:\n",
    "        print(np.shape(img))\n",
    "        plt.figure()\n",
    "        plt.imshow(img)\n",
    "        std = np.mean([np.std(img[:10,:10]),np.std(img[-10:,:10]),np.std(img[:10,-10:]),np.std(img[-10:,-10:])])\n",
    "        print(std)\n",
    "        if catalog_i == 17:\n",
    "            break\n",
    "\n",
    "    img = prepare_cutout(img,cutout_size)\n",
    "    # REMOVE IMAGES WITHOUT ENOUGH FLUX\n",
    "    sum_ims.append(np.sum(img))\n",
    "    if np.sum(img) < 14:\n",
    "        pass\n",
    "    else:\n",
    "        # NORMALIZE TO SUM TO ONE\n",
    "        img = img / np.sum(img)\n",
    "        # Save the image as its own image.\n",
    "        img = img.astype(np.float64)\n",
    "        np.save(str(npy_files_path+('image_%07d.npy'%(catalog_i))),img)\n",
    "        catalog_i += 1\n",
    "\n",
    "np.save(catalog_path,catalog)"
   ]
  },
  {
   "cell_type": "code",
   "execution_count": null,
   "metadata": {},
   "outputs": [],
   "source": [
    "plt.hist(sum_ims)\n",
    "print(np.median(sum_ims))\n",
    "print(np.sum(np.asarray(sum_ims) < 14))\n",
    "np.min(sum_ims)\n",
    "\n",
    "#4822/56000\n"
   ]
  },
  {
   "cell_type": "code",
   "execution_count": null,
   "metadata": {},
   "outputs": [],
   "source": [
    "visualization_utils.matrix_plot_from_folder('COSMOS_23.5_training_sample/custom_cutouts_round2/npy_files/','training_grid.pdf')"
   ]
  },
  {
   "cell_type": "code",
   "execution_count": null,
   "metadata": {},
   "outputs": [],
   "source": [
    "i = 38\n",
    "im = np.load('COSMOS_23.5_training_sample/custom_cutouts/npy_files/image_%07d.npy'%(i))\n",
    "print(np.sum(im))\n",
    "plt.figure()\n",
    "plt.imshow(im)\n",
    "im2 = np.load('COSMOS_23.5_training_sample/custom_cutouts_round2/npy_files/image_%07d.npy'%(i))\n",
    "print(np.sum(im2))\n",
    "plt.figure()\n",
    "plt.imshow(im2)"
   ]
  },
  {
   "cell_type": "code",
   "execution_count": null,
   "metadata": {},
   "outputs": [],
   "source": [
    "catalog = np.load('COSMOS_23.5_training_sample/custom_cutouts/paltas_catalog.npy')"
   ]
  },
  {
   "cell_type": "code",
   "execution_count": null,
   "metadata": {},
   "outputs": [],
   "source": [
    "print(type(catalog))\n",
    "print(catalog['pixel_width'].shape)"
   ]
  },
  {
   "cell_type": "markdown",
   "metadata": {},
   "source": [
    "### Make a tfrecord file ###"
   ]
  },
  {
   "cell_type": "code",
   "execution_count": null,
   "metadata": {},
   "outputs": [],
   "source": [
    "from paltas.Analysis.dataset_generation import generate_tf_record, generate_tf_dataset\n",
    "\n",
    "\n",
    "generate_tf_record('COSMOS_23.5_training_sample/custom_cutouts_round2/npy_files/',[],'placeholder.csv',\n",
    "\t'COSMOS_23.5_training_sample/custom_cutouts_round2/training_data.tfrecord')"
   ]
  },
  {
   "cell_type": "code",
   "execution_count": null,
   "metadata": {},
   "outputs": [],
   "source": [
    "generate_tf_record('COSMOS_23.5_training_sample/custom_cutouts_round2/val_npy_files/',[],'placeholder.csv',\n",
    "\t'COSMOS_23.5_training_sample/custom_cutouts_round2/validation_data.tfrecord')"
   ]
  },
  {
   "cell_type": "code",
   "execution_count": null,
   "metadata": {},
   "outputs": [],
   "source": []
  }
 ],
 "metadata": {
  "kernelspec": {
   "display_name": "CS_236",
   "language": "python",
   "name": "python3"
  },
  "language_info": {
   "codemirror_mode": {
    "name": "ipython",
    "version": 3
   },
   "file_extension": ".py",
   "mimetype": "text/x-python",
   "name": "python",
   "nbconvert_exporter": "python",
   "pygments_lexer": "ipython3",
   "version": "3.9.18"
  },
  "orig_nbformat": 4
 },
 "nbformat": 4,
 "nbformat_minor": 2
}
