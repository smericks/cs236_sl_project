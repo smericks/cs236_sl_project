{
 "cells": [
  {
   "cell_type": "code",
   "execution_count": null,
   "metadata": {},
   "outputs": [],
   "source": [
    "%load_ext autoreload\n",
    "%autoreload 2\n",
    "\n",
    "import pickle\n",
    "import vae_ex\n",
    "import vae_arch\n",
    "import tensorflow as tf\n",
    "import haiku as hk\n",
    "import matplotlib.pyplot as plt\n",
    "import herculens_util\n",
    "import numpy as np\n",
    "import sys\n",
    "sys.path.insert(0, '/Users/smericks/Desktop/CS236/sl_project/')\n",
    "import visualization_utils"
   ]
  },
  {
   "cell_type": "code",
   "execution_count": null,
   "metadata": {},
   "outputs": [],
   "source": [
    "with open('model_lensing_epoch017.pckl', 'rb') as file:\n",
    "    params, opt_state = pickle.load(file)"
   ]
  },
  {
   "cell_type": "code",
   "execution_count": null,
   "metadata": {},
   "outputs": [],
   "source": [
    "# can control number of epochs here!! \n",
    "val_dataset = vae_ex.generate_tf_dataset('COSMOS_23.5_training_sample/custom_cutouts_round2/validation_data.tfrecord',\n",
    "    1000,1)\n",
    "\n",
    "for batch_v in val_dataset:\n",
    "    batch_v = tf.squeeze(batch_v)\n",
    "    val_images = batch_v.numpy()\n",
    "    break"
   ]
  },
  {
   "cell_type": "code",
   "execution_count": null,
   "metadata": {},
   "outputs": [],
   "source": [
    "loss_df = np.loadtxt('loss.csv',delimiter=',')\n",
    "plt.plot(loss_df)\n",
    "#plt.yscale('log')\n",
    "#plt.ylim([-38000,-37000])"
   ]
  },
  {
   "cell_type": "code",
   "execution_count": null,
   "metadata": {},
   "outputs": [],
   "source": [
    "rng_seq = hk.PRNGSequence(42)\n",
    "outputs = vae_arch.model.apply(params, next(rng_seq), val_images)"
   ]
  },
  {
   "cell_type": "code",
   "execution_count": null,
   "metadata": {},
   "outputs": [],
   "source": [
    "import matplotlib.colors as colors\n",
    "\n",
    "i = 0\n",
    "coords = [-.5,0.,.5]\n",
    "fig1,axs1 = plt.subplots(3,10,figsize=(10,3))\n",
    "plt.subplots_adjust(wspace=None, hspace=None)\n",
    "fig2,axs2 = plt.subplots(3,10,figsize=(10,3))\n",
    "plt.subplots_adjust(wspace=None, hspace=None)\n",
    "for i in range(0,10):\n",
    "    im1 = val_images[i]\n",
    "    im2 = outputs.image[i]\n",
    "    axs1[0,i].imshow(im1)\n",
    "    axs1[0,i].get_xaxis().set_ticks([])\n",
    "    axs1[0,i].get_yaxis().set_ticks([])\n",
    "    #axs1[0,0].set_title('original galaxy',fontsize=10)\n",
    "    axs1[1,i].imshow(im2)\n",
    "    axs1[1,i].get_xaxis().set_ticks([])\n",
    "    axs1[1,i].get_yaxis().set_ticks([])\n",
    "    #axs1[0,1].set_title('decoded galaxy',fontsize=10)\n",
    "    resid_norm = colors.TwoSlopeNorm(vmin=-0.001,vcenter=0,vmax=.001)\n",
    "    axs1[2,i].imshow(im1-im2,norm=resid_norm,cmap='bwr')\n",
    "    axs1[2,i].get_xaxis().set_ticks([])\n",
    "    axs1[2,i].get_yaxis().set_ticks([])\n",
    "    #axs1[0,2].set_title('residual',fontsize=10)\n",
    "    if i == 0:\n",
    "        axs1[0,i].set_ylabel('original')\n",
    "        axs1[1,i].set_ylabel('decoded')\n",
    "        axs1[2,i].set_ylabel('residual')\n",
    "\n",
    "\n",
    "    print(np.median(im1))\n",
    "    print(np.std(im1))\n",
    "    print(np.max(im1))\n",
    "    lens_params = np.array([1.2,0.,0.,0.0,0.])\n",
    "    im1,im2 = herculens_util.apply_lensing(im1,im2,lens_params)\n",
    "    print(np.median(im1))\n",
    "    print(np.std(im1))\n",
    "    print(np.max(im1))\n",
    "    axs2[0,i].imshow(im1,norm='asinh')\n",
    "    axs2[0,i].get_xaxis().set_ticks([])\n",
    "    axs2[0,i].get_yaxis().set_ticks([])\n",
    "    #axs2[i,0].set_title('lensed original',fontsize=10)\n",
    "    axs2[1,i].imshow(im2,norm='asinh')\n",
    "    axs2[1,i].get_xaxis().set_ticks([])\n",
    "    axs2[1,i].get_yaxis().set_ticks([])\n",
    "    #axs2[i,1].set_title('lensed decoded',fontsize=10)\n",
    "    resid_norm = colors.TwoSlopeNorm(vmin=-0.0001,vcenter=0,vmax=.0001)\n",
    "    axs2[2,i].imshow(im1-im2,norm=resid_norm,cmap='bwr')\n",
    "    axs2[2,i].get_xaxis().set_ticks([])\n",
    "    axs2[2,i].get_yaxis().set_ticks([])\n",
    "    if i == 0:\n",
    "        axs2[0,i].set_ylabel('original')\n",
    "        axs2[1,i].set_ylabel('decoded')\n",
    "        axs2[2,i].set_ylabel('residual')\n",
    "    #axs2[i,2].set_title('residual',fontsize=10)"
   ]
  },
  {
   "cell_type": "code",
   "execution_count": null,
   "metadata": {},
   "outputs": [],
   "source": [
    "files = ['model_test_epoch010.pckl','model_test_epoch032.pckl','model_lensing_epoch017.pckl']\n",
    "rng_seq = hk.PRNGSequence(42)\n",
    "outputs_list = []\n",
    "for f in files:\n",
    "    with open(f, 'rb') as file:\n",
    "        params, opt_state = pickle.load(file)\n",
    "    outputs = vae_arch.model.apply(params, next(rng_seq), val_images)\n",
    "    outputs_list.append(np.asarray(outputs.mean))\n",
    "\n",
    "param_labels = ['$z_0$','$z_1$','$z_2$','$z_3$','$z_4$','$z_5$','$z_6$','$z_7$','$z_8$','$z_9$']\n",
    "visualization_utils.overlay_contours(outputs_list,['grey','blue','green'],[0,1,2,3,4,5,6,7,8,9],\n",
    "    param_labels,['epoch 10','regular objective','strong lensing objective'],\n",
    "    true_params=None,save_path=None,bounds=None,\n",
    "    burnin=int(0),annotate_medians=False,dpi=200)"
   ]
  },
  {
   "cell_type": "code",
   "execution_count": null,
   "metadata": {},
   "outputs": [],
   "source": [
    "z_means = outputs.mean\n",
    "\n",
    "print(z_means.shape)\n",
    "\n",
    "plt.scatter(z_means[:,0],z_means[:,1],c=np.sum(val_images,axis=(1,2)))\n",
    "plt.xlabel('$z_0$')\n",
    "plt.ylabel('$z_1$')\n",
    "cbar = plt.colorbar()\n",
    "cbar.ax.set_yticklabels([])\n",
    "cbar.set_label('total flux', rotation=270)\n",
    "plt.title('Epoch 1')\n",
    "\n",
    "plt.figure()\n",
    "plt.scatter(z_means[:,2],z_means[:,3],c=np.sum(val_images,axis=(1,2)))\n",
    "plt.xlabel('$z_2$')\n",
    "plt.ylabel('$z_3$')\n",
    "plt.colorbar()\n",
    "plt.title('Epoch 1')\n",
    "\n",
    "plt.figure()\n",
    "plt.scatter(z_means[:,4],z_means[:,5],c=np.sum(val_images,axis=(1,2)))\n",
    "plt.xlabel('$z_4$')\n",
    "plt.ylabel('$z_5$')\n",
    "plt.colorbar()\n",
    "plt.title('Epoch 1')"
   ]
  },
  {
   "cell_type": "code",
   "execution_count": null,
   "metadata": {},
   "outputs": [],
   "source": [
    "rng_seq = hk.PRNGSequence(42)\n",
    "outputs = vae_ex.model.apply(params, next(rng_seq), val_images)\n",
    "\n",
    "outputs.image[0]\n",
    "\n",
    "fig,axs = plt.subplots(1,2)\n",
    "\n",
    "axs[0].matshow(val_images[0])\n",
    "axs[1].matshow(outputs.image[0])\n",
    "\n",
    "print(np.std(val_images[0]))\n",
    "print(np.max(val_images[0]))\n",
    "print(np.std(outputs.image[0]))\n",
    "print(np.max(outputs.image[0]))|"
   ]
  },
  {
   "cell_type": "code",
   "execution_count": null,
   "metadata": {},
   "outputs": [],
   "source": []
  }
 ],
 "metadata": {
  "kernelspec": {
   "display_name": "cs236_herculens",
   "language": "python",
   "name": "python3"
  },
  "language_info": {
   "codemirror_mode": {
    "name": "ipython",
    "version": 3
   },
   "file_extension": ".py",
   "mimetype": "text/x-python",
   "name": "python",
   "nbconvert_exporter": "python",
   "pygments_lexer": "ipython3",
   "version": "3.9.18"
  },
  "orig_nbformat": 4
 },
 "nbformat": 4,
 "nbformat_minor": 2
}
